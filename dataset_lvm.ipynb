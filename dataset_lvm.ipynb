{
 "cells": [
  {
   "cell_type": "code",
   "execution_count": 1,
   "metadata": {},
   "outputs": [],
   "source": [
    "import os\n",
    "import numpy as np\n",
    "import pandas as pd\n",
    "import torch\n",
    "from torch.utils.data import Dataset, DataLoader\n",
    "from sklearn.preprocessing import StandardScaler"
   ]
  },
  {
   "cell_type": "code",
   "execution_count": 2,
   "metadata": {},
   "outputs": [],
   "source": [
    "class Dataset_weather(Dataset):\n",
    "    def __init__(self,path,seqs=5,preds=1,scale=True) -> None:\n",
    "        super().__init__()\n",
    "        self.data_path = path\n",
    "        self.scale = scale\n",
    "        self.seqs = seqs # 每个样本中的图片序列长度\n",
    "        self.preds = preds # 每个样本预测图片的数量\n",
    "        self.__read_data__() # 这里读取后的数据形状都是(self.channels,self.new_L)即横置的\n",
    "\n",
    "    def __read_data__(self):\n",
    "        self.scaler = StandardScaler()\n",
    "        df_raw = pd.read_csv(self.data_path,index_col=0) # shape:(52696, 21)\n",
    "        data_array = df_raw.to_numpy()\n",
    "        # 截断数据使其为C的倍数\n",
    "        L, C = data_array.shape\n",
    "        self.channels = C\n",
    "        new_L = (L // C ) * C \n",
    "        self.new_L = new_L\n",
    "        trun_data_array = data_array[:new_L,:]\n",
    "        assert len(trun_data_array) % C == 0\n",
    "        # 数据标准化\n",
    "        if self.scale:\n",
    "            self.scaler.fit(trun_data_array)\n",
    "            data = self.scaler.transform(trun_data_array)\n",
    "        else:\n",
    "            data = trun_data_array\n",
    "        \n",
    "        dataT = data.T\n",
    "        # print(dataT.shape) (C,new_L)        \n",
    "        self.data_x = dataT\n",
    "        # self.data_y = dataT\n",
    "       \n",
    "    def __getitem__(self, index):\n",
    "        C,L = self.channels,self.new_L\n",
    "        \n",
    "        seq_x = self.data_x[:,index*C:(index+self.seqs)*C]\n",
    "        y_true = self.data_x[:,(index+self.seqs)*C:(index+self.seqs+1)*C]\n",
    "\n",
    "        return seq_x,y_true\n",
    "\n",
    "    def __len__(self):\n",
    "        return int((self.new_L / self.channels) )- self.seqs\n",
    "    \n",
    "    def inverse_transform(self, data):\n",
    "        data = data.T\n",
    "        inverse_trans_data = self.scaler.inverse_transform(data)\n",
    "        return inverse_trans_data.T\n"
   ]
  },
  {
   "cell_type": "code",
   "execution_count": 3,
   "metadata": {},
   "outputs": [],
   "source": [
    "dataset = Dataset_weather(path=r'D:\\时序数据集\\all_datasets\\all_datasets\\weather\\weather.csv')"
   ]
  },
  {
   "cell_type": "code",
   "execution_count": 4,
   "metadata": {},
   "outputs": [
    {
     "name": "stdout",
     "output_type": "stream",
     "text": [
      "(21, 105)\n",
      "(21, 21)\n",
      "(21, 105)\n",
      "(21, 21)\n"
     ]
    }
   ],
   "source": [
    "x0,y0 = dataset[0]\n",
    "print(x0.shape)\n",
    "print(y0.shape)\n",
    "x1,y1 = dataset[1]\n",
    "print(x1.shape)\n",
    "print(y1.shape)"
   ]
  },
  {
   "cell_type": "code",
   "execution_count": 11,
   "metadata": {},
   "outputs": [],
   "source": [
    "data_test_loader = DataLoader(dataset,batch_size=4,shuffle=False,drop_last=False)"
   ]
  },
  {
   "cell_type": "code",
   "execution_count": null,
   "metadata": {},
   "outputs": [
    {
     "name": "stdout",
     "output_type": "stream",
     "text": [
      "torch.Size([4, 21, 21])\n",
      "(21, 84)\n"
     ]
    }
   ],
   "source": [
    "for batch_x,batch_y in data_test_loader:\n",
    "    print(batch_y.shape)\n",
    "    batch_y =batch_y.detach().cpu().numpy()\n",
    "    # 转置数据，使得形状变为 (variable_channels, time_steps, batch_size)\n",
    "    data_transposed = batch_y.transpose(1, 2, 0)  # 变为 (21, 21, 4)\n",
    "    # 然后调整形状，将其变为 (variable_channels, time_steps * batch_size)\n",
    "    result = data_transposed.reshape(21, 21 * 4)\n",
    "\n",
    "    trues_inv = dataset.inverse_transform(result)\n",
    "    print(trues_inv.shape) # (21,84)\n",
    "    break\n"
   ]
  },
  {
   "cell_type": "code",
   "execution_count": 5,
   "metadata": {},
   "outputs": [
    {
     "data": {
      "text/plain": [
       "(21, 105)"
      ]
     },
     "execution_count": 5,
     "metadata": {},
     "output_type": "execute_result"
    }
   ],
   "source": [
    "data = dataset.inverse_transform(x0)\n",
    "data.shape"
   ]
  },
  {
   "cell_type": "code",
   "execution_count": null,
   "metadata": {},
   "outputs": [],
   "source": []
  }
 ],
 "metadata": {
  "kernelspec": {
   "display_name": "lvm_demo",
   "language": "python",
   "name": "python3"
  },
  "language_info": {
   "codemirror_mode": {
    "name": "ipython",
    "version": 3
   },
   "file_extension": ".py",
   "mimetype": "text/x-python",
   "name": "python",
   "nbconvert_exporter": "python",
   "pygments_lexer": "ipython3",
   "version": "3.10.15"
  }
 },
 "nbformat": 4,
 "nbformat_minor": 2
}
